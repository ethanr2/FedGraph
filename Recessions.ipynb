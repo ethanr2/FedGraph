{
 "cells": [
  {
   "cell_type": "code",
   "execution_count": null,
   "metadata": {
    "collapsed": false
   },
   "outputs": [],
   "source": [
    "import pandas as pd\n",
    "import numpy as np\n",
    "from IPython.display import display\n",
    "\n",
    "#This function processes the text from the cell\n",
    "def parse(item):\n",
    "    if isinstance(item, int): return item\n",
    "    if isinstance(item, float): return 0\n",
    "    if item.startswith('~'): item = item[1:]\n",
    "    if item.endswith('years'):\n",
    "        num = int(item[:-6])\n",
    "        return num * 12\n",
    "    if item.endswith('year'): return 12\n",
    "    if item.endswith('months'): return int(item[:-7])\n",
    "    if item.endswith('month'): return 1\n",
    "    return item\n",
    "\n",
    "#'recData' was the name of the excel file where I copy and pasted the tables from wikipedia\n",
    "table = pd.read_excel('recData.xlsx')\n",
    "table['Time Since Previous Recession'] = table.iloc[:,-1].apply(parse)\n",
    "table['Duration'] = table.iloc[:,-2].apply(parse)\n",
    "lst = []\n",
    "\n",
    "#This part is a little complicated, for some reason pandas didn't like the way excel merged the cells in some in the more recent recessions\n",
    "for i in range(len(table.index.values)):\n",
    "    if pd.isnull(table.loc[i,'Name']): \n",
    "        table.loc[i-1,'Duration'] = table.loc[i-1,'Duration'] + table.loc[i,'Duration']\n",
    "        table.loc[i-1,'Time Since Previous Recession'] = int(table.loc[i-1,'Time Since Previous Recession']) + int(table.loc[i,'Time Since Previous Recession'])\n",
    "        lst.append(i)\n",
    "table.drop(lst,inplace = True)\n",
    "table.index = range(len(table.index.values))\n",
    
   ]
  },
  {
   "cell_type": "code",
   "execution_count": null,
   "metadata": {
    "collapsed": false
   },
   "outputs": [],
   "source": [
    "#Everything else is just graphing the data\n",
    "from bokeh.plotting import figure\n",
    "from bokeh.io import output_file, show\n",
    "\n",
    "\n",
    "plot = figure(title = 'Recessions in the United States', x_axis_label = 'Time Since Previous Recession (Months)',\n",
    "                   y_axis_label = 'Duration (Months)', background_fill_color=\"#E8DDCB\")\n",
    "plot.circle(x = table['Time Since Previous Recession'][:30], y = table['Duration'][:30], color = 'Red', \n",
    "            legend = 'Before the Fed', size = 8)\n",
    "plot.circle(x = table['Time Since Previous Recession'][30:], y = table['Duration'][30:], color = 'Blue', \n",
    "            legend = 'After the Fed', size = 8)\n",
    "\n",
    "output_file('recGraph')\n",
    "show(plot)"
   ]
  }
 ],
 "metadata": {
  "anaconda-cloud": {},
  "kernelspec": {
   "display_name": "Python [Root]",
   "language": "python",
   "name": "Python [Root]"
  },
  "language_info": {
   "codemirror_mode": {
    "name": "ipython",
    "version": 2
   },
   "file_extension": ".py",
   "mimetype": "text/x-python",
   "name": "python",
   "nbconvert_exporter": "python",
   "pygments_lexer": "ipython2",
   "version": "2.7.12"
  }
 },
 "nbformat": 4,
 "nbformat_minor": 0
}
